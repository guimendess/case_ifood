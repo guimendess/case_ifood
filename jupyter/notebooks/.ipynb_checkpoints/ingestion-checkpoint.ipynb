{
 "cells": [
  {
   "cell_type": "markdown",
   "id": "e490b54c-ad56-4774-b770-763513d09b99",
   "metadata": {},
   "source": [
    "## Importando as bibliotecas e criando a spark session com a configuração do Minio para escrever os dados da ingestão"
   ]
  },
  {
   "cell_type": "code",
   "execution_count": 6,
   "id": "843ee2f7-5ea0-4c8d-ac2a-4e768912a44b",
   "metadata": {},
   "outputs": [
    {
     "name": "stdout",
     "output_type": "stream",
     "text": [
      "Requirement already satisfied: minio in /opt/conda/lib/python3.10/site-packages (7.2.12)\n",
      "Requirement already satisfied: pycryptodome in /opt/conda/lib/python3.10/site-packages (from minio) (3.21.0)\n",
      "Requirement already satisfied: typing-extensions in /opt/conda/lib/python3.10/site-packages (from minio) (4.4.0)\n",
      "Requirement already satisfied: certifi in /opt/conda/lib/python3.10/site-packages (from minio) (2022.9.24)\n",
      "Requirement already satisfied: urllib3 in /opt/conda/lib/python3.10/site-packages (from minio) (1.26.11)\n",
      "Requirement already satisfied: argon2-cffi in /opt/conda/lib/python3.10/site-packages (from minio) (21.3.0)\n",
      "Requirement already satisfied: argon2-cffi-bindings in /opt/conda/lib/python3.10/site-packages (from argon2-cffi->minio) (21.2.0)\n",
      "Requirement already satisfied: cffi>=1.0.1 in /opt/conda/lib/python3.10/site-packages (from argon2-cffi-bindings->argon2-cffi->minio) (1.15.1)\n",
      "Requirement already satisfied: pycparser in /opt/conda/lib/python3.10/site-packages (from cffi>=1.0.1->argon2-cffi-bindings->argon2-cffi->minio) (2.21)\n"
     ]
    }
   ],
   "source": [
    "!pip install minio"
   ]
  },
  {
   "cell_type": "code",
   "execution_count": 7,
   "id": "0e27aafe-b321-4428-91f6-11b11e3e32d6",
   "metadata": {},
   "outputs": [
    {
     "data": {
      "text/html": [
       "<style>pre { white-space: pre !important; }</style>"
      ],
      "text/plain": [
       "<IPython.core.display.HTML object>"
      ]
     },
     "metadata": {},
     "output_type": "display_data"
    }
   ],
   "source": [
    "from pyspark.sql.types import *\n",
    "import pyspark.sql.functions as fn\n",
    "from pyspark.sql import SparkSession\n",
    "from IPython.core.display import HTML\n",
    "import os\n",
    "import requests\n",
    "import re\n",
    "from bs4 import BeautifulSoup\n",
    "from minio import Minio\n",
    "from urllib.parse import urlparse\n",
    "\n",
    "display(HTML(\"<style>pre { white-space: pre !important; }</style>\"))\n",
    "\n",
    "spark = (SparkSession.builder\n",
    "         .config(\"spark.jars\",\"\"\"/home/jovyan/jars/aws-java-sdk-core-1.11.534.jar,\n",
    "                                 /home/jovyan/jars/aws-java-sdk-dynamodb-1.11.534.jar,\n",
    "                                 /home/jovyan/jars/aws-java-sdk-s3-1.11.534.jar,\n",
    "                                 /home/jovyan/jars/hadoop-aws-3.2.2.jar,\n",
    "                                 /home/jovyan/jars/postgresql-42.3.3.jar\"\"\")\n",
    "         .config(\"spark.hadoop.fs.s3a.endpoint\", \"http://minio:9000\")\n",
    "         .config(\"spark.hadoop.fs.s3a.access.key\", \"ZiVYnHFvBt2HumCAXmQG\")\n",
    "         .config(\"spark.hadoop.fs.s3a.secret.key\", \"oVNgBEZ5PISLiwF25fJkoazHGXRFB7mJeiBcVygd\")\n",
    "         .config(\"spark.hadoop.fs.s3a.path.style.access\", True)\n",
    "         .config(\"spark.hadoop.fs.s3a.impl\", \"org.apache.hadoop.fs.s3a.S3AFileSystem\")\n",
    "         .config(\"spark.hadoop.fs.s3a.aws.credentials.provider\", \"org.apache.hadoop.fs.s3a.SimpleAWSCredentialsProvider\")\n",
    "         .getOrCreate()\n",
    "        )"
   ]
  },
  {
   "cell_type": "markdown",
   "id": "342b3fd1-e5a9-4309-9fee-9c8c810b8cc0",
   "metadata": {},
   "source": [
    "## Baixando as URL's da página de arquivos dos taxis de NY"
   ]
  },
  {
   "cell_type": "code",
   "execution_count": 8,
   "id": "e9e60d47-a94a-44d4-ae8c-c904736149d9",
   "metadata": {},
   "outputs": [
    {
     "name": "stdout",
     "output_type": "stream",
     "text": [
      "https://d37ci6vzurychx.cloudfront.net/trip-data/yellow_tripdata_2023-01.parquet\n",
      "https://d37ci6vzurychx.cloudfront.net/trip-data/yellow_tripdata_2023-02.parquet\n",
      "https://d37ci6vzurychx.cloudfront.net/trip-data/yellow_tripdata_2023-03.parquet\n",
      "https://d37ci6vzurychx.cloudfront.net/trip-data/yellow_tripdata_2023-04.parquet\n",
      "https://d37ci6vzurychx.cloudfront.net/trip-data/yellow_tripdata_2023-05.parquet\n"
     ]
    }
   ],
   "source": [
    "# URL da página onde os arquivos Parquet estão disponíveis\n",
    "url = 'https://www.nyc.gov/site/tlc/about/tlc-trip-record-data.page'\n",
    "\n",
    "# Fazer a requisição HTTP para a página\n",
    "response = requests.get(url)\n",
    "\n",
    "# Criar o BeautifulSoup para analisar o conteúdo HTML\n",
    "soup = BeautifulSoup(response.content, 'html.parser')\n",
    "\n",
    "# Encontrar todos os links na página\n",
    "links = soup.find_all('a', href=True)\n",
    "\n",
    "# Filtrar as URLs que terminam com \".parquet\" - alguns arquivos foram salvos com espaço no final da string da url.\n",
    "parquet_urls = [link['href'] for link in links if link['href'].endswith('.parquet') or link['href'].endswith('.parquet ')]\n",
    "\n",
    "#Removendo os espaços extras nos objetos do array\n",
    "parquet_urls = [url.strip() for url in parquet_urls]\n",
    "\n",
    "\n",
    "# Função para filtrar as URLs\n",
    "def filter_parquet_urls(urls):\n",
    "    # Regex para encontrar o nome 'yellow_tripdata' e datas de janeiro a maio de 2023\n",
    "    filtered_urls = [\n",
    "        url for url in urls\n",
    "        if \"yellow_tripdata\" in url and re.search(r'2023-(0[1-5])\\.parquet$', url)\n",
    "    ]\n",
    "    return filtered_urls\n",
    "\n",
    "# Aplicar a filtragem\n",
    "filtered_urls = filter_parquet_urls(parquet_urls)\n",
    "\n",
    "# Exibir as URLs filtradas\n",
    "for url in filtered_urls:\n",
    "    print(url)\n"
   ]
  },
  {
   "cell_type": "markdown",
   "id": "7cf89580-32f1-48a8-af96-fc366058b4e5",
   "metadata": {},
   "source": [
    "## Salvando os dados parquet no Minio na camada bronze"
   ]
  },
  {
   "cell_type": "code",
   "execution_count": 9,
   "id": "d05b4efe-5e21-4c8b-ae5f-6fd273ddfaf4",
   "metadata": {},
   "outputs": [
    {
     "name": "stdout",
     "output_type": "stream",
     "text": [
      "Bucket: bronze criado em 2024-11-15 22:59:09.254000+00:00\n",
      "Bucket: gold criado em 2024-11-15 22:59:22.171000+00:00\n",
      "Bucket: silver criado em 2024-11-15 22:59:16.161000+00:00\n"
     ]
    }
   ],
   "source": [
    "from minio import Minio\n",
    "\n",
    "try:\n",
    "    minio_client = Minio(\n",
    "        \"172.18.0.5:9000\",\n",
    "        access_key=\"ZiVYnHFvBt2HumCAXmQG\",\n",
    "        secret_key=\"oVNgBEZ5PISLiwF25fJkoazHGXRFB7mJeiBcVygd\",\n",
    "        secure=False\n",
    "    )\n",
    "    buckets = minio_client.list_buckets()\n",
    "    for bucket in buckets:\n",
    "        print(f\"Bucket: {bucket.name} criado em {bucket.creation_date}\")\n",
    "except Exception as e:\n",
    "    print(f\"Erro ao conectar ao MinIO: {e}\")\n"
   ]
  },
  {
   "cell_type": "code",
   "execution_count": 10,
   "id": "1e125e4a-43f5-4fae-9b8f-cdcfcf539c83",
   "metadata": {},
   "outputs": [
    {
     "name": "stdout",
     "output_type": "stream",
     "text": [
      "Bucket 'bronze' já existe.\n"
     ]
    }
   ],
   "source": [
    "bucket_name = \"bronze\"\n",
    "\n",
    "# Verifica se o bucket existe\n",
    "if not minio_client.bucket_exists(bucket_name):\n",
    "    minio_client.make_bucket(bucket_name)\n",
    "    print(f\"Bucket '{bucket_name}' criado com sucesso.\")\n",
    "else:\n",
    "    print(f\"Bucket '{bucket_name}' já existe.\")\n"
   ]
  },
  {
   "cell_type": "code",
   "execution_count": 11,
   "id": "bc544652-c4dd-4e56-a025-d05a7b9d2127",
   "metadata": {},
   "outputs": [
    {
     "name": "stdout",
     "output_type": "stream",
     "text": [
      "yellow_tripdata_2023-01.parquet baixado com sucesso.\n",
      "yellow_tripdata_2023-01.parquet salvo no MinIO em bronze/yellow_taxi_files/yellow_tripdata_2023-01.parquet\n",
      "yellow_tripdata_2023-02.parquet baixado com sucesso.\n",
      "yellow_tripdata_2023-02.parquet salvo no MinIO em bronze/yellow_taxi_files/yellow_tripdata_2023-02.parquet\n",
      "yellow_tripdata_2023-03.parquet baixado com sucesso.\n",
      "yellow_tripdata_2023-03.parquet salvo no MinIO em bronze/yellow_taxi_files/yellow_tripdata_2023-03.parquet\n",
      "yellow_tripdata_2023-04.parquet baixado com sucesso.\n",
      "yellow_tripdata_2023-04.parquet salvo no MinIO em bronze/yellow_taxi_files/yellow_tripdata_2023-04.parquet\n",
      "yellow_tripdata_2023-05.parquet baixado com sucesso.\n",
      "yellow_tripdata_2023-05.parquet salvo no MinIO em bronze/yellow_taxi_files/yellow_tripdata_2023-05.parquet\n"
     ]
    }
   ],
   "source": [
    "# Configuração do MinIO (endpoint local)\n",
    "minio_endpoint = \"http://172.18.0.4:9000\"\n",
    "bucket_name = \"bronze\"\n",
    "\n",
    "# Verifica se o bucket existe, se não, cria\n",
    "minio_client = Minio(\n",
    "    \"172.18.0.5:9000\",  # MinIO endpoint\n",
    "    access_key=\"ZiVYnHFvBt2HumCAXmQG\",  # Access key\n",
    "    secret_key=\"oVNgBEZ5PISLiwF25fJkoazHGXRFB7mJeiBcVygd\",  # Secret key\n",
    "    secure=False  # Sem HTTPS\n",
    ")\n",
    "\n",
    "# if not minio_client.bucket_exists(bucket_name):\n",
    "#     minio_client.make_bucket(bucket_name)\n",
    "\n",
    "# Baixar os arquivos e salvar no MinIO\n",
    "for parquet_url in filtered_urls:\n",
    "    # Nome do arquivo local\n",
    "    file_name = os.path.basename(parquet_url)\n",
    "    local_path = f'/tmp/{file_name}'\n",
    "\n",
    "    # Baixar o arquivo Parquet\n",
    "    response = requests.get(parquet_url)\n",
    "    with open(local_path, 'wb') as f:\n",
    "        f.write(response.content)\n",
    "\n",
    "    print(f'{file_name} baixado com sucesso.')\n",
    "\n",
    "    # Definir o diretório no bucket (yellow_taxi_files)\n",
    "    object_name = f\"yellow_taxi_files/{file_name}\"\n",
    "\n",
    "    # Subir para o MinIO dentro do diretório yellow_taxi_files\n",
    "    with open(local_path, 'rb') as f:\n",
    "        minio_client.put_object(bucket_name, object_name, f, os.stat(local_path).st_size)\n",
    "\n",
    "    print(f'{file_name} salvo no MinIO em {bucket_name}/{object_name}')\n",
    "\n",
    "    # Remover o arquivo local temporário\n",
    "    os.remove(local_path)\n"
   ]
  },
  {
   "cell_type": "code",
   "execution_count": null,
   "id": "86e643bc-e14c-4218-8015-981678f3b079",
   "metadata": {},
   "outputs": [],
   "source": []
  }
 ],
 "metadata": {
  "kernelspec": {
   "display_name": "Python 3 (ipykernel)",
   "language": "python",
   "name": "python3"
  },
  "language_info": {
   "codemirror_mode": {
    "name": "ipython",
    "version": 3
   },
   "file_extension": ".py",
   "mimetype": "text/x-python",
   "name": "python",
   "nbconvert_exporter": "python",
   "pygments_lexer": "ipython3",
   "version": "3.10.6"
  }
 },
 "nbformat": 4,
 "nbformat_minor": 5
}
